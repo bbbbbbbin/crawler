{
 "cells": [
  {
   "cell_type": "code",
   "execution_count": 10,
   "metadata": {},
   "outputs": [],
   "source": [
    "import requests\n",
    "from bs4 import BeautifulSoup\n",
    "import json"
   ]
  },
  {
   "cell_type": "code",
   "execution_count": 3,
   "metadata": {},
   "outputs": [],
   "source": [
    "# 获取知乎热榜数据\n",
    "# https://www.zhihu.com/api/v4/creators/rank/hot?domain=0&limit=50&offset=0&period=hour\n",
    "dic = {}\n",
    "headers = {\n",
    "        \"User-Agent\" : 'Mozilla/5.0 (Linux; Android 6.0; Nexus 5 Build/MRA58N) AppleWebKit/537.36 (KHTML, like Gecko) Chrome/103.0.0.0 Mobile Safari/537.36'\n",
    "}\n",
    "url = 'https://www.zhihu.com/hot'\n",
    "response = requests.get(url, headers = headers)\n",
    "data = response.content\n",
    "data = BeautifulSoup(data)\n",
    "datalist = data.select('.App-main > div')[0].select('a')\n",
    "for i in datalist:\n",
    "    n = i.select('div')[1].text\n",
    "    dic[n] = {}\n",
    "    dic[n]['title'] = i.select('div')[2].select('h1')[0].text\n",
    "    try:\n",
    "        dic[n]['img'] = i.select('img')[0].get('src')\n",
    "    except:\n",
    "        dic[n]['img'] = None\n",
    "    try:\n",
    "        dic[n]['hot'] = i.select('div')[2].select('div')[1].text\n",
    "        dic[n]['desc'] = i.select('div')[2].select('div')[0].text\n",
    "    except:\n",
    "        dic[n]['desc'] = None\n",
    "        dic[n]['hot'] = i.select('div')[2].select('div')[0].text\n"
   ]
  },
  {
   "cell_type": "code",
   "execution_count": null,
   "metadata": {},
   "outputs": [],
   "source": [
    "# 微博 话题详情\n",
    "# https://m.s.weibo.com/vtopic/detail?q=%23%E4%BA%BA%E7%94%9F%E5%A4%A7%E4%BA%8B%23\n",
    "# 微博 热搜\n",
    "# https://s.weibo.com/top/summary"
   ]
  },
  {
   "cell_type": "code",
   "execution_count": null,
   "metadata": {},
   "outputs": [],
   "source": [
    "# 各个电子报纸详情"
   ]
  }
 ],
 "metadata": {
  "kernelspec": {
   "display_name": "Python 3.6.8 ('base')",
   "language": "python",
   "name": "python3"
  },
  "language_info": {
   "codemirror_mode": {
    "name": "ipython",
    "version": 3
   },
   "file_extension": ".py",
   "mimetype": "text/x-python",
   "name": "python",
   "nbconvert_exporter": "python",
   "pygments_lexer": "ipython3",
   "version": "3.6.8"
  },
  "orig_nbformat": 4,
  "vscode": {
   "interpreter": {
    "hash": "b09ec625f77bf4fd762565a912b97636504ad6ec901eb2d0f4cf5a7de23e1ee5"
   }
  }
 },
 "nbformat": 4,
 "nbformat_minor": 2
}
