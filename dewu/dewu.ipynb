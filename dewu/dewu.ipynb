{
 "cells": [
  {
   "cell_type": "code",
   "execution_count": 24,
   "metadata": {},
   "outputs": [],
   "source": [
    "import requests\n",
    "from bs4 import BeautifulSoup\n",
    "import json\n",
    "import re\n",
    "import time\n",
    "from selenium import webdriver\n",
    "from selenium.webdriver.common.by import By"
   ]
  },
  {
   "cell_type": "code",
   "execution_count": 18,
   "metadata": {},
   "outputs": [],
   "source": [
    "url = 'https://dw4.co/t/A/mnljjcL'\n",
    "options = webdriver.ChromeOptions()\n",
    "options.add_argument(\"headless\")\n",
    "options.add_experimental_option(\"excludeSwitches\", ['enable-automation','enable-logging'])\n",
    "options.add_argument('-ignore-certificate-errors')\n",
    "options.add_argument('-ignore -ssl-errors')\n",
    "options.add_argument('User-Agent=Mozilla/5.0 (iPhone; CPU iPhone OS 13_2_3 like Mac OS X) AppleWebKit/605.1.15 (KHTML, like Gecko) Version/13.0.3 Mobile/15E148 Safari/604.1')\n",
    "browser = webdriver.Chrome('../chromedriver.exe',options=options)\n",
    "\n",
    "html = browser.get(url)\n",
    "html = browser.find_element(By.CLASS_NAME, 'swiper-wrapper')\n",
    "html = html.get_attribute('innerHTML')\n",
    "data = BeautifulSoup(html, \"html.parser\")\n",
    "time.sleep(2)\n",
    "browser.quit()"
   ]
  },
  {
   "cell_type": "code",
   "execution_count": 23,
   "metadata": {},
   "outputs": [
    {
     "name": "stdout",
     "output_type": "stream",
     "text": [
      "https://image-cdn.poizon.com/app/2022/community/21097673_byte378057byte_950b241ca76cceae2bf7de2e4a27ac13_iOS_w1280h1920.jpg?x-oss-process=image/format,webp/resize,w_1080\n",
      "https://image-cdn.poizon.com/app/2022/community/21097673_byte397586byte_83f4e9c4a883d121179f0df0f89bd8fa_iOS_w1280h1920.jpg?x-oss-process=image/format,webp/resize,w_1080\n",
      "https://image-cdn.poizon.com/app/2022/community/21097673_byte413198byte_c1f2774d01ae339136dabba8c93be786_iOS_w1280h1920.jpg?x-oss-process=image/format,webp/resize,w_1080\n",
      "https://image-cdn.poizon.com/app/2022/community/21097673_byte307070byte_18f5721789bce60a3a2a9a262261cac7_iOS_w1280h1920.jpg?x-oss-process=image/format,webp/resize,w_1080\n",
      "https://image-cdn.poizon.com/app/2022/community/21097673_byte449323byte_4a327edfae900258628726cd617bfdae_iOS_w1280h1920.jpg?x-oss-process=image/format,webp/resize,w_1080\n",
      "https://image-cdn.poizon.com/app/2022/community/21097673_byte341156byte_41009c901ca84d141b6be8aef4c708a9_iOS_w1280h1920.jpg?x-oss-process=image/format,webp/resize,w_1080\n",
      "https://image-cdn.poizon.com/app/2022/community/21097673_byte444793byte_aef6a05c17f6921c0694a9a64174547f_iOS_w1280h1920.jpg?x-oss-process=image/format,webp/resize,w_1080\n",
      "https://image-cdn.poizon.com/app/2022/community/21097673_byte367528byte_920fd36491a0fee812aeb2dccde1f889_iOS_w1280h1920.jpg?x-oss-process=image/format,webp/resize,w_1080\n",
      "https://image-cdn.poizon.com/app/2022/community/21097673_byte289981byte_04382760b846aa7c0e4a2af78eb5d519_iOS_w1280h1920.jpg?x-oss-process=image/format,webp/resize,w_1080\n"
     ]
    }
   ],
   "source": [
    "for i in data(class_=re.compile('^ImgBox_img-box-inner')):\n",
    "    print(i['src'])"
   ]
  },
  {
   "cell_type": "code",
   "execution_count": null,
   "metadata": {},
   "outputs": [],
   "source": []
  }
 ],
 "metadata": {
  "kernelspec": {
   "display_name": "Python 3.9.12 ('base')",
   "language": "python",
   "name": "python3"
  },
  "language_info": {
   "codemirror_mode": {
    "name": "ipython",
    "version": 3
   },
   "file_extension": ".py",
   "mimetype": "text/x-python",
   "name": "python",
   "nbconvert_exporter": "python",
   "pygments_lexer": "ipython3",
   "version": "3.9.12"
  },
  "orig_nbformat": 4,
  "vscode": {
   "interpreter": {
    "hash": "49cb93f377a7abe7414b7b0f21fb3017538004a126cf690fb524202736b7fb92"
   }
  }
 },
 "nbformat": 4,
 "nbformat_minor": 2
}
