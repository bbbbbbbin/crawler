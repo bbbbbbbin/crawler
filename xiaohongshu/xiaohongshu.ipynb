{
 "cells": [
  {
   "cell_type": "code",
   "execution_count": 1,
   "metadata": {},
   "outputs": [],
   "source": [
    "import requests\n",
    "from bs4 import BeautifulSoup\n",
    "import json\n",
    "import re\n",
    "import time\n",
    "from selenium import webdriver\n",
    "from selenium.webdriver.common.by import By\n",
    "from selenium.webdriver.support.wait import WebDriverWait\n",
    "from selenium.webdriver.support import expected_conditions as EC\n"
   ]
  },
  {
   "cell_type": "code",
   "execution_count": 3,
   "metadata": {},
   "outputs": [
    {
     "ename": "TimeoutException",
     "evalue": "Message: \n",
     "output_type": "error",
     "traceback": [
      "\u001b[1;31m---------------------------------------------------------------------------\u001b[0m",
      "\u001b[1;31mTimeoutException\u001b[0m                          Traceback (most recent call last)",
      "\u001b[1;32mh:\\vscode\\crawler\\xiaohongshu\\xiaohongshu.ipynb Cell 2\u001b[0m in \u001b[0;36m<cell line: 25>\u001b[1;34m()\u001b[0m\n\u001b[0;32m     <a href='vscode-notebook-cell:/h%3A/vscode/crawler/xiaohongshu/xiaohongshu.ipynb#ch0000001?line=16'>17</a>\u001b[0m browser\u001b[39m.\u001b[39mget(url)\n\u001b[0;32m     <a href='vscode-notebook-cell:/h%3A/vscode/crawler/xiaohongshu/xiaohongshu.ipynb#ch0000001?line=17'>18</a>\u001b[0m \u001b[39m#browser.execute_cdp_cmd(\"Page.addScriptToEvaluateOnNewDocument\", {\u001b[39;00m\n\u001b[0;32m     <a href='vscode-notebook-cell:/h%3A/vscode/crawler/xiaohongshu/xiaohongshu.ipynb#ch0000001?line=18'>19</a>\u001b[0m \u001b[39m#  \"source\": \"\"\"\u001b[39;00m\n\u001b[0;32m     <a href='vscode-notebook-cell:/h%3A/vscode/crawler/xiaohongshu/xiaohongshu.ipynb#ch0000001?line=19'>20</a>\u001b[0m \u001b[39m#    Object.defineProperty(navigator, 'webdriver', {\u001b[39;00m\n\u001b[1;32m   (...)\u001b[0m\n\u001b[0;32m     <a href='vscode-notebook-cell:/h%3A/vscode/crawler/xiaohongshu/xiaohongshu.ipynb#ch0000001?line=22'>23</a>\u001b[0m \u001b[39m#  \"\"\"\u001b[39;00m\n\u001b[0;32m     <a href='vscode-notebook-cell:/h%3A/vscode/crawler/xiaohongshu/xiaohongshu.ipynb#ch0000001?line=23'>24</a>\u001b[0m \u001b[39m#})\u001b[39;00m\n\u001b[1;32m---> <a href='vscode-notebook-cell:/h%3A/vscode/crawler/xiaohongshu/xiaohongshu.ipynb#ch0000001?line=24'>25</a>\u001b[0m WebDriverWait(browser, \u001b[39m10\u001b[39;49m)\u001b[39m.\u001b[39;49muntil(\n\u001b[0;32m     <a href='vscode-notebook-cell:/h%3A/vscode/crawler/xiaohongshu/xiaohongshu.ipynb#ch0000001?line=25'>26</a>\u001b[0m         EC\u001b[39m.\u001b[39;49mvisibility_of_element_located((By\u001b[39m.\u001b[39;49mCLASS_NAME, \u001b[39m'\u001b[39;49m\u001b[39mmoving\u001b[39;49m\u001b[39m'\u001b[39;49m)))\n\u001b[0;32m     <a href='vscode-notebook-cell:/h%3A/vscode/crawler/xiaohongshu/xiaohongshu.ipynb#ch0000001?line=26'>27</a>\u001b[0m html \u001b[39m=\u001b[39m browser\u001b[39m.\u001b[39mfind_element(By\u001b[39m.\u001b[39mCLASS_NAME, \u001b[39m'\u001b[39m\u001b[39mmoving\u001b[39m\u001b[39m'\u001b[39m)\n\u001b[0;32m     <a href='vscode-notebook-cell:/h%3A/vscode/crawler/xiaohongshu/xiaohongshu.ipynb#ch0000001?line=27'>28</a>\u001b[0m html \u001b[39m=\u001b[39m html\u001b[39m.\u001b[39mget_attribute(\u001b[39m'\u001b[39m\u001b[39minnerHTML\u001b[39m\u001b[39m'\u001b[39m)\n",
      "File \u001b[1;32md:\\anaconda3\\lib\\site-packages\\selenium\\webdriver\\support\\wait.py:80\u001b[0m, in \u001b[0;36mWebDriverWait.until\u001b[1;34m(self, method, message)\u001b[0m\n\u001b[0;32m     78\u001b[0m     \u001b[39mif\u001b[39;00m time\u001b[39m.\u001b[39mtime() \u001b[39m>\u001b[39m end_time:\n\u001b[0;32m     79\u001b[0m         \u001b[39mbreak\u001b[39;00m\n\u001b[1;32m---> 80\u001b[0m \u001b[39mraise\u001b[39;00m TimeoutException(message, screen, stacktrace)\n",
      "\u001b[1;31mTimeoutException\u001b[0m: Message: \n"
     ]
    }
   ],
   "source": [
    "url = 'http://xhslink.com/Js7rki'\n",
    "options = webdriver.ChromeOptions()\n",
    "useragent=[\n",
    "    'Mozilla/5.0 (Linux; U; Android 8.1.0; zh-cn; BLA-AL00 Build/HUAWEIBLA-AL00) AppleWebKit/537.36 (KHTML, like Gecko) Version/4.0 Chrome/57.0.2987.132 MQQBrowser/8.9 Mobile Safari/537.36',\n",
    "    'Mozilla/5.0 (Linux; Android 8.0; DUK-AL20 Build/HUAWEIDUK-AL20; wv) AppleWebKit/537.36 (KHTML, like Gecko) Version/4.0 Chrome/57.0.2987.132 MQQBrowser/6.2 TBS/044353 Mobile Safari/537.36 MicroMessenger/6.7.3.1360(0x26070333) NetType/WIFI Language/zh_CN Process/tools'\n",
    "    ]\n",
    "# options.add_argument(\"headless\")\n",
    "options.add_experimental_option(\"excludeSwitches\", ['enable-automation','enable-logging'])\n",
    "options.add_argument('-ignore-certificate-errors')\n",
    "options.add_argument('-ignore -ssl-errors')\n",
    "options.add_argument('--no-sandbox')  \n",
    "options.add_argument('--disable-gpu')  \n",
    "options.add_argument('blink-settings=imagesEnabled=false') \n",
    "options.add_argument('User-Agent=Mozilla/5.0 (iPhone; CPU iPhone OS 13_2_3 like Mac OS X) AppleWebKit/605.1.15 (KHTML, like Gecko) Version/13.0.3 Mobile/15E148 Safari/604.1')\n",
    "browser = webdriver.Chrome('../chromedriver.exe',options=options)\n",
    "browser.implicitly_wait(10)\n",
    "browser.get(url)\n",
    "#browser.execute_cdp_cmd(\"Page.addScriptToEvaluateOnNewDocument\", {\n",
    "#  \"source\": \"\"\"\n",
    "#    Object.defineProperty(navigator, 'webdriver', {\n",
    "#      get: () => undefined\n",
    "#    })\n",
    "#  \"\"\"\n",
    "#})\n",
    "WebDriverWait(browser, 10).until(\n",
    "        EC.visibility_of_element_located((By.CLASS_NAME, 'moving')))\n",
    "html = browser.find_element(By.CLASS_NAME, 'moving')\n",
    "html = html.get_attribute('innerHTML')\n",
    "data = BeautifulSoup(html, \"html.parser\")\n",
    "# browser.quit()"
   ]
  },
  {
   "cell_type": "code",
   "execution_count": null,
   "metadata": {},
   "outputs": [],
   "source": [
    "for i in data(class_=re.compile('^ImgBox_img-box-inner')):\n",
    "    print(i['src'])"
   ]
  },
  {
   "cell_type": "code",
   "execution_count": null,
   "metadata": {},
   "outputs": [],
   "source": []
  }
 ],
 "metadata": {
  "kernelspec": {
   "display_name": "Python 3.9.12 ('base')",
   "language": "python",
   "name": "python3"
  },
  "language_info": {
   "codemirror_mode": {
    "name": "ipython",
    "version": 3
   },
   "file_extension": ".py",
   "mimetype": "text/x-python",
   "name": "python",
   "nbconvert_exporter": "python",
   "pygments_lexer": "ipython3",
   "version": "3.9.12"
  },
  "orig_nbformat": 4,
  "vscode": {
   "interpreter": {
    "hash": "49cb93f377a7abe7414b7b0f21fb3017538004a126cf690fb524202736b7fb92"
   }
  }
 },
 "nbformat": 4,
 "nbformat_minor": 2
}
