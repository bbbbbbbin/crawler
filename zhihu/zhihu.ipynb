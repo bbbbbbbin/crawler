{
 "cells": [
  {
   "cell_type": "code",
   "execution_count": 1,
   "metadata": {},
   "outputs": [],
   "source": [
    "import requests\n",
    "from bs4 import BeautifulSoup\n",
    "import json"
   ]
  },
  {
   "cell_type": "code",
   "execution_count": 3,
   "metadata": {},
   "outputs": [],
   "source": [
    "# 获取知乎热榜数据\n",
    "# https://www.zhihu.com/api/v4/creators/rank/hot?domain=0&limit=50&offset=0&period=hour\n",
    "dic = {}\n",
    "headers = {\n",
    "        \"User-Agent\" : 'Mozilla/5.0 (Linux; Android 6.0; Nexus 5 Build/MRA58N) AppleWebKit/537.36 (KHTML, like Gecko) Chrome/103.0.0.0 Mobile Safari/537.36'\n",
    "}\n",
    "url = 'https://www.zhihu.com/hot'\n",
    "response = requests.get(url, headers = headers)\n",
    "data = response.content\n",
    "data = BeautifulSoup(data)\n",
    "datalist = data.select('.App-main > div')[0].select('a')\n",
    "for i in datalist:\n",
    "    n = i.select('div')[1].text\n",
    "    dic[n] = {}\n",
    "    dic[n]['title'] = i.select('div')[2].select('h1')[0].text\n",
    "    try:\n",
    "        dic[n]['img'] = i.select('img')[0].get('src')\n",
    "    except:\n",
    "        dic[n]['img'] = None\n",
    "    try:\n",
    "        dic[n]['hot'] = i.select('div')[2].select('div')[1].text\n",
    "        dic[n]['desc'] = i.select('div')[2].select('div')[0].text\n",
    "    except:\n",
    "        dic[n]['desc'] = None\n",
    "        dic[n]['hot'] = i.select('div')[2].select('div')[0].text\n"
   ]
  },
  {
   "cell_type": "code",
   "execution_count": 20,
   "metadata": {},
   "outputs": [],
   "source": [
    "# 获取知乎热榜数据 api\n",
    "# https://www.zhihu.com/api/v4/creators/domain      domain数据\n",
    "url = 'https://www.zhihu.com/api/v4/creators/rank/hot?domain=0&limit=20&offset=0&period=hour'\n",
    "'''\n",
    "    domain = 0, 100001-1000029      各领域代码\n",
    "    period = hour, day, week        小时榜，日榜，周榜\n",
    "    limit = 10, 20, 50              条目数量\n",
    "    offset = 0                      初始位置\n",
    "'''\n",
    "headers = {\n",
    "        \"User-Agent\" : 'Mozilla/5.0 (Linux; Android 6.0; Nexus 5 Build/MRA58N) AppleWebKit/537.36 (KHTML, like Gecko) Chrome/103.0.0.0 Mobile Safari/537.36'\n",
    "}\n",
    "response = requests.get(url, headers = headers)\n",
    "data = response.content"
   ]
  },
  {
   "cell_type": "code",
   "execution_count": 21,
   "metadata": {},
   "outputs": [],
   "source": [
    "data = json.loads(data)['data']"
   ]
  },
  {
   "cell_type": "code",
   "execution_count": 24,
   "metadata": {},
   "outputs": [
    {
     "data": {
      "text/plain": [
       "{'new_pv': 248531,\n",
       " 'new_pv_7_days': 0,\n",
       " 'new_follow_num': 113,\n",
       " 'new_follow_num_7_days': 0,\n",
       " 'new_answer_num': 43,\n",
       " 'new_answer_num_7_days': 0,\n",
       " 'new_upvote_num': 1006,\n",
       " 'new_upvote_num_7_days': 0,\n",
       " 'pv': 2411605,\n",
       " 'follow_num': 1319,\n",
       " 'answer_num': 519,\n",
       " 'upvote_num': 6785,\n",
       " 'pv_incr_rate': '0.00%',\n",
       " 'head_percent': '0.00%',\n",
       " 'new_pv_yesterday': 248531,\n",
       " 'new_pv_t_yesterday': 248531,\n",
       " 'score': 9.184289999999999,\n",
       " 'score_level': 5,\n",
       " 'text': ''}"
      ]
     },
     "execution_count": 24,
     "metadata": {},
     "output_type": "execute_result"
    }
   ],
   "source": [
    "data[2]['reaction']"
   ]
  },
  {
   "cell_type": "code",
   "execution_count": 25,
   "metadata": {},
   "outputs": [
    {
     "data": {
      "text/plain": [
       "{'url': 'https://www.zhihu.com/question/539313804',\n",
       " 'created': 1656041196,\n",
       " 'updated_time': 1656043078,\n",
       " 'title': '如何看待俄媒称「我们的船只正在不光彩地沉没在海上」「为尽快实现俄海军现代化，俄罗斯应向中国订购军舰」？',\n",
       " 'highlight_title': '',\n",
       " 'type': 'question',\n",
       " 'id': '539313804',\n",
       " 'token': 539313804,\n",
       " 'is_recent_hot': False,\n",
       " 'have_answer': False,\n",
       " 'question_answer_url': '',\n",
       " 'topics': [{'url_token': 19553911, 'name': '军事'},\n",
       "  {'url_token': 19564120, 'name': '国际'},\n",
       "  {'url_token': 19566816, 'name': '俄罗斯'}],\n",
       " 'label': '上升',\n",
       " 'creator': {'url_token': '', 'name': ''}}"
      ]
     },
     "execution_count": 25,
     "metadata": {},
     "output_type": "execute_result"
    }
   ],
   "source": [
    "data[2]['question']"
   ]
  },
  {
   "cell_type": "code",
   "execution_count": null,
   "metadata": {},
   "outputs": [],
   "source": []
  }
 ],
 "metadata": {
  "kernelspec": {
   "display_name": "Python 3.6.8 ('base')",
   "language": "python",
   "name": "python3"
  },
  "language_info": {
   "codemirror_mode": {
    "name": "ipython",
    "version": 3
   },
   "file_extension": ".py",
   "mimetype": "text/x-python",
   "name": "python",
   "nbconvert_exporter": "python",
   "pygments_lexer": "ipython3",
   "version": "3.6.8"
  },
  "orig_nbformat": 4,
  "vscode": {
   "interpreter": {
    "hash": "b09ec625f77bf4fd762565a912b97636504ad6ec901eb2d0f4cf5a7de23e1ee5"
   }
  }
 },
 "nbformat": 4,
 "nbformat_minor": 2
}
